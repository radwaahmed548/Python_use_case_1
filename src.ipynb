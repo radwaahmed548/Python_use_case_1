{
 "cells": [
  {
   "cell_type": "code",
   "execution_count": 1,
   "metadata": {},
   "outputs": [
    {
     "name": "stdout",
     "output_type": "stream",
     "text": [
      "Defaulting to user installation because normal site-packages is not writeable\n",
      "Requirement already satisfied: flask_sqlalchemy in c:\\users\\radwa.abdallah\\appdata\\roaming\\python\\python312\\site-packages (3.1.1)\n",
      "Requirement already satisfied: flask>=2.2.5 in c:\\users\\radwa.abdallah\\appdata\\roaming\\python\\python312\\site-packages (from flask_sqlalchemy) (3.0.2)\n",
      "Requirement already satisfied: sqlalchemy>=2.0.16 in c:\\users\\radwa.abdallah\\appdata\\roaming\\python\\python312\\site-packages (from flask_sqlalchemy) (2.0.27)\n",
      "Requirement already satisfied: Werkzeug>=3.0.0 in c:\\users\\radwa.abdallah\\appdata\\roaming\\python\\python312\\site-packages (from flask>=2.2.5->flask_sqlalchemy) (3.0.1)\n",
      "Requirement already satisfied: Jinja2>=3.1.2 in c:\\users\\radwa.abdallah\\appdata\\roaming\\python\\python312\\site-packages (from flask>=2.2.5->flask_sqlalchemy) (3.1.3)\n",
      "Requirement already satisfied: itsdangerous>=2.1.2 in c:\\users\\radwa.abdallah\\appdata\\roaming\\python\\python312\\site-packages (from flask>=2.2.5->flask_sqlalchemy) (2.1.2)\n",
      "Requirement already satisfied: click>=8.1.3 in c:\\users\\radwa.abdallah\\appdata\\roaming\\python\\python312\\site-packages (from flask>=2.2.5->flask_sqlalchemy) (8.1.7)\n",
      "Requirement already satisfied: blinker>=1.6.2 in c:\\users\\radwa.abdallah\\appdata\\roaming\\python\\python312\\site-packages (from flask>=2.2.5->flask_sqlalchemy) (1.7.0)\n",
      "Requirement already satisfied: typing-extensions>=4.6.0 in c:\\users\\radwa.abdallah\\appdata\\roaming\\python\\python312\\site-packages (from sqlalchemy>=2.0.16->flask_sqlalchemy) (4.10.0)\n",
      "Requirement already satisfied: greenlet!=0.4.17 in c:\\users\\radwa.abdallah\\appdata\\roaming\\python\\python312\\site-packages (from sqlalchemy>=2.0.16->flask_sqlalchemy) (3.0.3)\n",
      "Requirement already satisfied: colorama in c:\\users\\radwa.abdallah\\appdata\\roaming\\python\\python312\\site-packages (from click>=8.1.3->flask>=2.2.5->flask_sqlalchemy) (0.4.6)\n",
      "Requirement already satisfied: MarkupSafe>=2.0 in c:\\users\\radwa.abdallah\\appdata\\roaming\\python\\python312\\site-packages (from Jinja2>=3.1.2->flask>=2.2.5->flask_sqlalchemy) (2.1.5)\n",
      "Note: you may need to restart the kernel to use updated packages.\n"
     ]
    }
   ],
   "source": [
    "pip install flask_sqlalchemy"
   ]
  },
  {
   "cell_type": "code",
   "execution_count": 2,
   "metadata": {},
   "outputs": [],
   "source": [
    "from flask_sqlalchemy import SQLAlchemy"
   ]
  },
  {
   "cell_type": "code",
   "execution_count": 4,
   "metadata": {},
   "outputs": [],
   "source": [
    "import os\n",
    "import pandas as pd\n",
    "from sqlalchemy import create_engine"
   ]
  },
  {
   "cell_type": "code",
   "execution_count": 3,
   "metadata": {},
   "outputs": [
    {
     "name": "stdout",
     "output_type": "stream",
     "text": [
      "Defaulting to user installation because normal site-packages is not writeable\n",
      "Collecting pyodbc\n",
      "  Downloading pyodbc-5.1.0-cp312-cp312-win_amd64.whl.metadata (2.8 kB)\n",
      "Downloading pyodbc-5.1.0-cp312-cp312-win_amd64.whl (69 kB)\n",
      "   ---------------------------------------- 0.0/69.3 kB ? eta -:--:--\n",
      "   ----- ---------------------------------- 10.2/69.3 kB ? eta -:--:--\n",
      "   ----------------- ---------------------- 30.7/69.3 kB 435.7 kB/s eta 0:00:01\n",
      "   ---------------------------------------- 69.3/69.3 kB 627.9 kB/s eta 0:00:00\n",
      "Installing collected packages: pyodbc\n",
      "Successfully installed pyodbc-5.1.0\n",
      "Note: you may need to restart the kernel to use updated packages.\n"
     ]
    }
   ],
   "source": [
    "pip install pyodbc"
   ]
  },
  {
   "cell_type": "code",
   "execution_count": 18,
   "metadata": {},
   "outputs": [],
   "source": [
    "server = 'BI-R-ABDALLAH'\n",
    "database = 'MY_DATABASE'\n",
    "username = 'sa'\n",
    "password = 'P@ssw0rd@radwa'\n",
    "driver = 'SQL Server'\n",
    "conn_str = f'DRIVER={{{driver}}};SERVER={server};DATABASE={database};UID={username};PWD={password}'\n",
    "engine = create_engine(f\"mssql+pyodbc:///?odbc_connect={conn_str}\", use_setinputsizes=False)"
   ]
  },
  {
   "cell_type": "code",
   "execution_count": 25,
   "metadata": {},
   "outputs": [
    {
     "name": "stdout",
     "output_type": "stream",
     "text": [
      "Data from 'customers-1000.csv' appended to table 'customers-1000' in SQL Server.\n",
      "Data from 'organizations-1000.csv' appended to table 'organizations-1000' in SQL Server.\n",
      "Data from 'people-1000.csv' appended to table 'people-1000' in SQL Server.\n"
     ]
    }
   ],
   "source": [
    "folder_path=r'D:\\projects\\use_case_1\\data'\n",
    "files=[file for file in os.listdir(folder_path) if file.endswith('.csv')]\n",
    "for i in files:\n",
    "    table_name=os.path.splitext(i)[0]\n",
    "    file_path=os.path.join(folder_path,i)\n",
    "    df = pd.read_csv(file_path)\n",
    "    df.to_sql(table_name, engine, index=False, if_exists='replace')\n",
    "    print(f\"Data from '{i}' appended to table '{table_name}' in SQL Server.\")\n",
    "\n",
    "\n",
    "\n"
   ]
  }
 ],
 "metadata": {
  "kernelspec": {
   "display_name": "env",
   "language": "python",
   "name": "python3"
  },
  "language_info": {
   "codemirror_mode": {
    "name": "ipython",
    "version": 3
   },
   "file_extension": ".py",
   "mimetype": "text/x-python",
   "name": "python",
   "nbconvert_exporter": "python",
   "pygments_lexer": "ipython3",
   "version": "3.12.2"
  }
 },
 "nbformat": 4,
 "nbformat_minor": 2
}
